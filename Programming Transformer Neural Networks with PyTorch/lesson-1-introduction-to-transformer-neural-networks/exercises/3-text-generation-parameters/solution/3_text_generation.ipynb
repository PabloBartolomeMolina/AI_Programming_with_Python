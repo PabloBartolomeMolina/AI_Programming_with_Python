{
 "cells": [
  {
   "cell_type": "code",
   "execution_count": 1,
   "metadata": {
    "id": "ulgnkbbvEt6u"
   },
   "outputs": [
    {
     "name": "stdout",
     "output_type": "stream",
     "text": [
      "All good!\n"
     ]
    }
   ],
   "source": [
    "import torch\n",
    "cuda_is_available = torch.cuda.is_available()\n",
    "\n",
    "if cuda_is_available:\n",
    "  print(\"All good!\")\n",
    "else:\n",
    "  print(\"CUDA is NOT available!\")"
   ]
  },
  {
   "cell_type": "code",
   "execution_count": 2,
   "metadata": {
    "id": "7R6RnqQu0-P9"
   },
   "outputs": [],
   "source": [
    "prompt = \"During the latest presentation OpenAI\"\n",
    "model = \"openai-community/gpt2-large\""
   ]
  },
  {
   "cell_type": "code",
   "execution_count": 3,
   "metadata": {
    "id": "hkVKzDegAItu"
   },
   "outputs": [
    {
     "data": {
      "application/vnd.jupyter.widget-view+json": {
       "model_id": "ba35aecf50dc4f9e8b84b1a748db2a32",
       "version_major": 2,
       "version_minor": 0
      },
      "text/plain": [
       "config.json:   0%|          | 0.00/666 [00:00<?, ?B/s]"
      ]
     },
     "metadata": {},
     "output_type": "display_data"
    },
    {
     "data": {
      "application/vnd.jupyter.widget-view+json": {
       "model_id": "d9739abbb9e9437a83358147710c2d55",
       "version_major": 2,
       "version_minor": 0
      },
      "text/plain": [
       "model.safetensors:   0%|          | 0.00/3.25G [00:00<?, ?B/s]"
      ]
     },
     "metadata": {},
     "output_type": "display_data"
    },
    {
     "data": {
      "application/vnd.jupyter.widget-view+json": {
       "model_id": "16c8e3e65ba74c1daba4c1af8e7f321f",
       "version_major": 2,
       "version_minor": 0
      },
      "text/plain": [
       "generation_config.json:   0%|          | 0.00/124 [00:00<?, ?B/s]"
      ]
     },
     "metadata": {},
     "output_type": "display_data"
    },
    {
     "data": {
      "application/vnd.jupyter.widget-view+json": {
       "model_id": "c0143d5ed42f44dd8e36b66bb006ee05",
       "version_major": 2,
       "version_minor": 0
      },
      "text/plain": [
       "tokenizer_config.json:   0%|          | 0.00/26.0 [00:00<?, ?B/s]"
      ]
     },
     "metadata": {},
     "output_type": "display_data"
    },
    {
     "data": {
      "application/vnd.jupyter.widget-view+json": {
       "model_id": "ce26dbb602064ca881460b090f269b76",
       "version_major": 2,
       "version_minor": 0
      },
      "text/plain": [
       "vocab.json:   0%|          | 0.00/1.04M [00:00<?, ?B/s]"
      ]
     },
     "metadata": {},
     "output_type": "display_data"
    },
    {
     "data": {
      "application/vnd.jupyter.widget-view+json": {
       "model_id": "dfbadd47237b41bcabc3928c28a0f91f",
       "version_major": 2,
       "version_minor": 0
      },
      "text/plain": [
       "merges.txt:   0%|          | 0.00/456k [00:00<?, ?B/s]"
      ]
     },
     "metadata": {},
     "output_type": "display_data"
    },
    {
     "data": {
      "application/vnd.jupyter.widget-view+json": {
       "model_id": "11785bc125e747cdaa44ff5ac19dfb24",
       "version_major": 2,
       "version_minor": 0
      },
      "text/plain": [
       "tokenizer.json:   0%|          | 0.00/1.36M [00:00<?, ?B/s]"
      ]
     },
     "metadata": {},
     "output_type": "display_data"
    },
    {
     "name": "stderr",
     "output_type": "stream",
     "text": [
      "Device set to use cuda:0\n"
     ]
    }
   ],
   "source": [
    "from transformers import pipeline\n",
    "\n",
    "# Load the text generation pipeline\n",
    "text_generator = pipeline(\"text-generation\", model=model, device=0)"
   ]
  },
  {
   "cell_type": "code",
   "execution_count": 4,
   "metadata": {
    "id": "_xUAq3XiAN1z"
   },
   "outputs": [
    {
     "name": "stderr",
     "output_type": "stream",
     "text": [
      "Truncation was not explicitly activated but `max_length` is provided a specific value, please use `truncation=True` to explicitly truncate examples to max length. Defaulting to 'longest_first' truncation strategy. If you encode pairs of sequences (GLUE-style) with the tokenizer you can select this strategy more precisely by providing a specific strategy to `truncation`.\n",
      "Setting `pad_token_id` to `eos_token_id`:50256 for open-end generation.\n"
     ]
    },
    {
     "name": "stdout",
     "output_type": "stream",
     "text": [
      "Generated text:\n",
      "During the latest presentation OpenAI founder John Mitchell said that OpenAI plans to \"grow the intelligence engine\" for autonomous cars within the framework of the autonomous driving concept. As of now, Mitchell said, this will be done within a few years.\n",
      "\n",
      "He stated that, even though the project is a collaboration between Facebook and DeepMind, there will be some people who would not be happy with the collaboration as it would impact their privacy.\n",
      "\n",
      "In his post at Wired, Mitchell said that he\n"
     ]
    }
   ],
   "source": [
    "# Generate text\n",
    "generated_texts = text_generator(prompt, max_length=100, num_return_sequences=1)\n",
    "\n",
    "print(f\"Generated text:\\n{generated_texts[0]['generated_text']}\")"
   ]
  },
  {
   "cell_type": "code",
   "execution_count": 5,
   "metadata": {
    "id": "rGcDDPcz1Ln5"
   },
   "outputs": [
    {
     "name": "stderr",
     "output_type": "stream",
     "text": [
      "Setting `pad_token_id` to `eos_token_id`:50256 for open-end generation.\n",
      "Setting `pad_token_id` to `eos_token_id`:50256 for open-end generation.\n"
     ]
    },
    {
     "name": "stdout",
     "output_type": "stream",
     "text": [
      "-----------------------------------\n",
      "Parameters:\n",
      "-----------------------------------\n",
      "do_sample=False\n",
      "-----------------------------------\n",
      "Generation:\n",
      "-----------------------------------\n",
      "During the latest presentation OpenAI's CEO, John Robb, said that the company is working on a \"biggest AI project ever\" and that it is \"going to be a big deal.\"\n",
      "\n",
      "Robb also said that the company is working on a \"biggest AI project ever\" and that it is \"going to be a big deal.\"\n",
      "\n",
      "\"We're going to be a big deal,\" he said. \"We're going to be the biggest AI project ever.\"\n",
      "\n",
      "\n",
      "-----------------------------------\n",
      "\n",
      "\n",
      "\n",
      "-----------------------------------\n",
      "Parameters:\n",
      "-----------------------------------\n",
      "do_sample=True\n",
      "-----------------------------------\n",
      "Generation:\n",
      "-----------------------------------\n",
      "During the latest presentation OpenAI's cofounder Elon Musk spoke about the company's goals. \"We're trying to achieve at the Neural Turing test that a person can't tell the difference between the machine and their own mind. That's the idea, in a very general sense.\"\n",
      "\n",
      "Musk added that he was \"very, very, very surprised at just how close the computers are coming to beating everyone.\"\n",
      "\n",
      "\"I expect that they'll become very good,\" added Mark O'Kelly\n",
      "-----------------------------------\n",
      "\n",
      "\n",
      "\n"
     ]
    }
   ],
   "source": [
    "for do_sample in [\n",
    "    False, # Greedy Search\n",
    "    True   # Multinomial sampling\n",
    "  ]:\n",
    "  generated_texts = text_generator(prompt, max_length=100, num_return_sequences=1, do_sample=do_sample, num_beams=1)\n",
    "\n",
    "  print(\"-----------------------------------\")\n",
    "  print(\"Parameters:\")\n",
    "  print(\"-----------------------------------\")\n",
    "  print(f\"do_sample={do_sample}\")\n",
    "  print(\"-----------------------------------\")\n",
    "  print(\"Generation:\")\n",
    "  print(\"-----------------------------------\")\n",
    "  print(generated_texts[0]['generated_text'])\n",
    "  print(\"-----------------------------------\")\n",
    "  print(\"\\n\\n\")"
   ]
  },
  {
   "cell_type": "code",
   "execution_count": 6,
   "metadata": {
    "id": "uo3CC3yk4QmC"
   },
   "outputs": [
    {
     "name": "stderr",
     "output_type": "stream",
     "text": [
      "Setting `pad_token_id` to `eos_token_id`:50256 for open-end generation.\n",
      "Setting `pad_token_id` to `eos_token_id`:50256 for open-end generation.\n"
     ]
    },
    {
     "name": "stdout",
     "output_type": "stream",
     "text": [
      "-----------------------------------\n",
      "Parameters:\n",
      "-----------------------------------\n",
      "num_beams=1\n",
      "-----------------------------------\n",
      "Generation:\n",
      "-----------------------------------\n",
      "During the latest presentation OpenAI's CEO, John Robb, said that the company is working on a \"biggest AI project ever\" and that it is \"going to be a big deal.\"\n",
      "\n",
      "Robb also said that the company is working on a \"biggest AI project ever\" and that it is \"going to be a big deal.\"\n",
      "\n",
      "\"We're going to be a big deal,\" he said. \"We're going to be the biggest AI project ever.\"\n",
      "\n",
      "\n",
      "-----------------------------------\n",
      "\n",
      "\n",
      "\n"
     ]
    },
    {
     "name": "stderr",
     "output_type": "stream",
     "text": [
      "Setting `pad_token_id` to `eos_token_id`:50256 for open-end generation.\n"
     ]
    },
    {
     "name": "stdout",
     "output_type": "stream",
     "text": [
      "-----------------------------------\n",
      "Parameters:\n",
      "-----------------------------------\n",
      "num_beams=2\n",
      "-----------------------------------\n",
      "Generation:\n",
      "-----------------------------------\n",
      "During the latest presentation OpenAI's CEO and co-founder Demis Hassabis said that the company is working on a new type of artificial intelligence that will be able to learn from its mistakes.\n",
      "\n",
      "\"We're working on a new type of artificial intelligence that will learn from its mistakes,\" Hassabis said. \"We're not going to be able to predict the future, but we're going to be able to learn from our mistakes.\"\n",
      "\n",
      "Hassabis said that the company is working\n",
      "-----------------------------------\n",
      "\n",
      "\n",
      "\n"
     ]
    },
    {
     "name": "stderr",
     "output_type": "stream",
     "text": [
      "Setting `pad_token_id` to `eos_token_id`:50256 for open-end generation.\n"
     ]
    },
    {
     "name": "stdout",
     "output_type": "stream",
     "text": [
      "-----------------------------------\n",
      "Parameters:\n",
      "-----------------------------------\n",
      "num_beams=4\n",
      "-----------------------------------\n",
      "Generation:\n",
      "-----------------------------------\n",
      "During the latest presentation OpenAI's CEO and co-founder Demis Hassabis said, \"We are excited to announce that we have reached an agreement with DeepMind to work together on the development of the next generation of artificial intelligence.\"\n",
      "\n",
      "DeepMind is a British artificial intelligence company founded in 2012. It is best known for its work on AlphaGo, a computer program that defeated the world's best Go player, Lee Sedol, at the end of 2016.\n",
      "\n",
      "\"We are excited\n",
      "-----------------------------------\n",
      "\n",
      "\n",
      "\n",
      "-----------------------------------\n",
      "Parameters:\n",
      "-----------------------------------\n",
      "num_beams=8\n",
      "-----------------------------------\n",
      "Generation:\n",
      "-----------------------------------\n",
      "During the latest presentation OpenAI's CEO and co-founder Demis Hassabis said:\n",
      "\n",
      "\"We've been working on this for a long time. We've been working on this for a long time. We've been working on this for a long time. We've been working on this for a long time. We've been working on this for a long time. We've been working on this for a long time. We've been working on this for a long time. We've\n",
      "-----------------------------------\n",
      "\n",
      "\n",
      "\n"
     ]
    }
   ],
   "source": [
    "# Beam-search strategy\n",
    "\n",
    "for beams in [1, 2, 4, 8]:\n",
    "  generated_texts = text_generator(prompt, max_length=100, num_return_sequences=1, do_sample=False, num_beams=beams)\n",
    "\n",
    "  print(\"-----------------------------------\")\n",
    "  print(\"Parameters:\")\n",
    "  print(\"-----------------------------------\")\n",
    "  print(f\"num_beams={beams}\")\n",
    "  print(\"-----------------------------------\")\n",
    "  print(\"Generation:\")\n",
    "  print(\"-----------------------------------\")\n",
    "  print(generated_texts[0]['generated_text'])\n",
    "  print(\"-----------------------------------\")\n",
    "  print(\"\\n\\n\")"
   ]
  },
  {
   "cell_type": "code",
   "execution_count": 7,
   "metadata": {
    "id": "K96hVRPC6MUR"
   },
   "outputs": [
    {
     "name": "stderr",
     "output_type": "stream",
     "text": [
      "Setting `pad_token_id` to `eos_token_id`:50256 for open-end generation.\n",
      "Setting `pad_token_id` to `eos_token_id`:50256 for open-end generation.\n"
     ]
    },
    {
     "name": "stdout",
     "output_type": "stream",
     "text": [
      "-----------------------------------\n",
      "Parameters:\n",
      "-----------------------------------\n",
      "num_beams=1\n",
      "-----------------------------------\n",
      "Generation:\n",
      "-----------------------------------\n",
      "During the latest presentation OpenAI, a robotics company backed by Google, presented its strategy for AI development. In the run-up to the talk, a number of major industry companies announced funding announcements with AI groups, including Google, Microsoft, IBM and many others.\n",
      "\n",
      "Despite its growing prominence and the new investor interest, the technology behind AI, or deep learning, remain very difficult to build into applications, and as a result, new, better AI systems that can drive business results remain decades in\n",
      "-----------------------------------\n",
      "\n",
      "\n",
      "\n"
     ]
    },
    {
     "name": "stderr",
     "output_type": "stream",
     "text": [
      "Setting `pad_token_id` to `eos_token_id`:50256 for open-end generation.\n"
     ]
    },
    {
     "name": "stdout",
     "output_type": "stream",
     "text": [
      "-----------------------------------\n",
      "Parameters:\n",
      "-----------------------------------\n",
      "num_beams=2\n",
      "-----------------------------------\n",
      "Generation:\n",
      "-----------------------------------\n",
      "During the latest presentation OpenAI founder Demis Hassabis, a co-founder of Google DeepMind, said that the company's goal is to create a machine-learning system that is able to learn on its own.\n",
      "\n",
      "\"The biggest challenge we have now is that we don't have a general-purpose machine-learning system,\" Hassabis said. \"We don't have one that can learn on its own.\"\n",
      "\n",
      "\"We want to build a general-purpose machine-learning system\n",
      "-----------------------------------\n",
      "\n",
      "\n",
      "\n"
     ]
    },
    {
     "name": "stderr",
     "output_type": "stream",
     "text": [
      "You seem to be using the pipelines sequentially on GPU. In order to maximize efficiency please use a dataset\n",
      "Setting `pad_token_id` to `eos_token_id`:50256 for open-end generation.\n"
     ]
    },
    {
     "name": "stdout",
     "output_type": "stream",
     "text": [
      "-----------------------------------\n",
      "Parameters:\n",
      "-----------------------------------\n",
      "num_beams=4\n",
      "-----------------------------------\n",
      "Generation:\n",
      "-----------------------------------\n",
      "During the latest presentation OpenAI CEO and co-founder Demis Hassabis said that the goal of OpenAI is to make the world a better place. The company has been working on artificial intelligence for a while now, but this is their first foray into the world of deep learning.\n",
      "\n",
      "Deep learning is a type of artificial intelligence that can be used to perform tasks such as machine translation, image recognition, and natural language processing.\n",
      "\n",
      "\"The goal of OpenAI is to make the world\n",
      "-----------------------------------\n",
      "\n",
      "\n",
      "\n",
      "-----------------------------------\n",
      "Parameters:\n",
      "-----------------------------------\n",
      "num_beams=8\n",
      "-----------------------------------\n",
      "Generation:\n",
      "-----------------------------------\n",
      "During the latest presentation OpenAI's CEO and co-founder Demis Hassabis said:\n",
      "\n",
      "\"We are very excited to announce that we have reached an agreement to acquire DeepMind, the world's leading artificial intelligence (AI) company. DeepMind's deep learning technology has the potential to revolutionise the way we think about and interact with the world around us.\"\n",
      "\n",
      "DeepMind was founded in London in 2004 and was acquired by Google in 2012 for $400 million.\n",
      "\n",
      "The acquisition\n",
      "-----------------------------------\n",
      "\n",
      "\n",
      "\n"
     ]
    }
   ],
   "source": [
    "# Beam-search multinomial sampling\n",
    "\n",
    "for beams in [1, 2, 4, 8]:\n",
    "  generated_texts = text_generator(prompt, max_length=100, num_return_sequences=1, do_sample=True, num_beams=beams)\n",
    "\n",
    "  print(\"-----------------------------------\")\n",
    "  print(\"Parameters:\")\n",
    "  print(\"-----------------------------------\")\n",
    "  print(f\"num_beams={beams}\")\n",
    "  print(\"-----------------------------------\")\n",
    "  print(\"Generation:\")\n",
    "  print(\"-----------------------------------\")\n",
    "  print(generated_texts[0]['generated_text'])\n",
    "  print(\"-----------------------------------\")\n",
    "  print(\"\\n\\n\")"
   ]
  },
  {
   "cell_type": "code",
   "execution_count": 8,
   "metadata": {
    "id": "f5R7GeD3AUgp"
   },
   "outputs": [
    {
     "name": "stderr",
     "output_type": "stream",
     "text": [
      "Setting `pad_token_id` to `eos_token_id`:50256 for open-end generation.\n",
      "Setting `pad_token_id` to `eos_token_id`:50256 for open-end generation.\n"
     ]
    },
    {
     "name": "stdout",
     "output_type": "stream",
     "text": [
      "-----------------------------------\n",
      "Parameters:\n",
      "-----------------------------------\n",
      "top_k=1\n",
      "-----------------------------------\n",
      "Generation:\n",
      "-----------------------------------\n",
      "During the latest presentation OpenAI's CEO, John Robb, said that the company is working on a \"biggest AI project ever\" and that it is \"going to be a big deal.\"\n",
      "\n",
      "Robb also said that the company is working on a \"biggest AI project ever\" and that it is \"going to be a big deal.\"\n",
      "\n",
      "\"We're going to be a big deal,\" he said. \"We're going to be the biggest AI project ever.\"\n",
      "\n",
      "\n",
      "-----------------------------------\n",
      "\n",
      "\n",
      "\n"
     ]
    },
    {
     "name": "stderr",
     "output_type": "stream",
     "text": [
      "Setting `pad_token_id` to `eos_token_id`:50256 for open-end generation.\n"
     ]
    },
    {
     "name": "stdout",
     "output_type": "stream",
     "text": [
      "-----------------------------------\n",
      "Parameters:\n",
      "-----------------------------------\n",
      "top_k=5\n",
      "-----------------------------------\n",
      "Generation:\n",
      "-----------------------------------\n",
      "During the latest presentation OpenAI has been showing off its new LIDAR system, which it claims can detect and track objects at up to 30 meters away and even in the air. The system can track the position of objects up to a distance of up to 10 meters, but only when they're in the line of sight of the system's sensors. It can also detect objects at distances of up to 10 meters and track them even when they're not in the line of vision.\n",
      "\n",
      "Open\n",
      "-----------------------------------\n",
      "\n",
      "\n",
      "\n"
     ]
    },
    {
     "name": "stderr",
     "output_type": "stream",
     "text": [
      "Setting `pad_token_id` to `eos_token_id`:50256 for open-end generation.\n"
     ]
    },
    {
     "name": "stdout",
     "output_type": "stream",
     "text": [
      "-----------------------------------\n",
      "Parameters:\n",
      "-----------------------------------\n",
      "top_k=10\n",
      "-----------------------------------\n",
      "Generation:\n",
      "-----------------------------------\n",
      "During the latest presentation OpenAI's CEO John Heilemann told a room filled with scientists, engineers and entrepreneurs that they were on the brink of a technological breakthrough and would have to \"make a very hard choice\" to support them or not.\n",
      "\n",
      "In a conference room on the second floor of the MIT Media Lab the crowd was buzzing with anticipation of what was happening next.\n",
      "\n",
      "OpenAI, an artificial general intelligence research group that includes Google's DeepMind, IBM's Watson and Microsoft's\n",
      "-----------------------------------\n",
      "\n",
      "\n",
      "\n"
     ]
    },
    {
     "name": "stderr",
     "output_type": "stream",
     "text": [
      "Setting `pad_token_id` to `eos_token_id`:50256 for open-end generation.\n"
     ]
    },
    {
     "name": "stdout",
     "output_type": "stream",
     "text": [
      "-----------------------------------\n",
      "Parameters:\n",
      "-----------------------------------\n",
      "top_k=50\n",
      "-----------------------------------\n",
      "Generation:\n",
      "-----------------------------------\n",
      "During the latest presentation OpenAI published, we heard from Andy Ng, a Google AI Research researcher leading the team responsible for the Google Cloud Vision API and a Google Go expert.\n",
      "\n",
      "Andy Ng – OpenAI\n",
      "\n",
      "Andy Ng was the first to work with Google DeepMind, and is the CTO of the company's AlphaGo project. Now, Ng is focused on OpenAI, which is the company he founded and which he leads the project with. OpenAI's main focus is to drive\n",
      "-----------------------------------\n",
      "\n",
      "\n",
      "\n"
     ]
    },
    {
     "name": "stderr",
     "output_type": "stream",
     "text": [
      "Setting `pad_token_id` to `eos_token_id`:50256 for open-end generation.\n"
     ]
    },
    {
     "name": "stdout",
     "output_type": "stream",
     "text": [
      "-----------------------------------\n",
      "Parameters:\n",
      "-----------------------------------\n",
      "top_k=100\n",
      "-----------------------------------\n",
      "Generation:\n",
      "-----------------------------------\n",
      "During the latest presentation OpenAI leader Demis Hassabis showcased a new deep learning algorithm, dubbed MNIST, that he dubbed a kind of AI that learns to recognize anything from a cat to a housefly using its two billion pixels. His team also uses a DeepBoost program to help overcome the challenges of finding the hidden layers that are difficult to find with traditional models. MNIST is a model specifically built to find the hidden ones, and its current results are truly astounding.\n",
      "\n",
      "\"We basically\n",
      "-----------------------------------\n",
      "\n",
      "\n",
      "\n",
      "-----------------------------------\n",
      "Parameters:\n",
      "-----------------------------------\n",
      "top_k=500\n",
      "-----------------------------------\n",
      "Generation:\n",
      "-----------------------------------\n",
      "During the latest presentation OpenAI suggested AI could one day help lead small scale battles, which have garnered a lot of attention. Such scenarios have been seen game-changing and potentially game-winning battles. There are stories of up to 900 players participating in the total match, and the battle resolution never gets more than a few milliseconds, preventing any participants from experiencing their loss. As well there is proof that even if a large amount of players are active, it is still not nearly strong enough to prevent the\n",
      "-----------------------------------\n",
      "\n",
      "\n",
      "\n"
     ]
    }
   ],
   "source": [
    "# Change the top-k parameter\n",
    "\n",
    "for k in [1, 5, 10, 50, 100, 500]:\n",
    "  generated_texts = text_generator(prompt, max_length=100, num_return_sequences=1, top_k=k)\n",
    "\n",
    "  print(\"-----------------------------------\")\n",
    "  print(\"Parameters:\")\n",
    "  print(\"-----------------------------------\")\n",
    "  print(f\"top_k={k}\")\n",
    "  print(\"-----------------------------------\")\n",
    "  print(\"Generation:\")\n",
    "  print(\"-----------------------------------\")\n",
    "  print(generated_texts[0]['generated_text'])\n",
    "  print(\"-----------------------------------\")\n",
    "  print(\"\\n\\n\")"
   ]
  },
  {
   "cell_type": "code",
   "execution_count": 9,
   "metadata": {
    "id": "yXOuaxe0RJwf"
   },
   "outputs": [
    {
     "name": "stderr",
     "output_type": "stream",
     "text": [
      "Setting `pad_token_id` to `eos_token_id`:50256 for open-end generation.\n",
      "Setting `pad_token_id` to `eos_token_id`:50256 for open-end generation.\n"
     ]
    },
    {
     "name": "stdout",
     "output_type": "stream",
     "text": [
      "-----------------------------------\n",
      "Parameters:\n",
      "-----------------------------------\n",
      "temperature=0.1\n",
      "-----------------------------------\n",
      "Generation:\n",
      "-----------------------------------\n",
      "During the latest presentation OpenAI's CEO, John Robb, said that the company is working on a \"deep learning\" system that can beat the world's best human players at Go.\n",
      "\n",
      "Robb said that the system will be able to beat the world's best players at Go, which is a game that involves moving pieces around a board.\n",
      "\n",
      "\"We're working on a deep learning system that can beat the world's best Go players,\" he said.\n",
      "\n",
      "The system will be\n",
      "-----------------------------------\n",
      "\n",
      "\n",
      "\n"
     ]
    },
    {
     "name": "stderr",
     "output_type": "stream",
     "text": [
      "Setting `pad_token_id` to `eos_token_id`:50256 for open-end generation.\n"
     ]
    },
    {
     "name": "stdout",
     "output_type": "stream",
     "text": [
      "-----------------------------------\n",
      "Parameters:\n",
      "-----------------------------------\n",
      "temperature=1.0\n",
      "-----------------------------------\n",
      "Generation:\n",
      "-----------------------------------\n",
      "During the latest presentation OpenAI researchers showed off a virtual reality (VR) experience for the AI's computer system. With a single camera inside the human body, the researchers created the illusion of an autonomous robot using hand gestures that could be used to control multiple cameras. A more sophisticated, more interactive and more powerful AI will enable the computer system to interact with the real world and use the same type of technology to build the most advanced forms of AI in the future.\n",
      "\n",
      "The researchers used six cameras\n",
      "-----------------------------------\n",
      "\n",
      "\n",
      "\n"
     ]
    },
    {
     "name": "stderr",
     "output_type": "stream",
     "text": [
      "Setting `pad_token_id` to `eos_token_id`:50256 for open-end generation.\n"
     ]
    },
    {
     "name": "stdout",
     "output_type": "stream",
     "text": [
      "-----------------------------------\n",
      "Parameters:\n",
      "-----------------------------------\n",
      "temperature=2.0\n",
      "-----------------------------------\n",
      "Generation:\n",
      "-----------------------------------\n",
      "During the latest presentation OpenAI sent for its AI Jam. If its goal is truly achieving true AI on artificial systems — one in which a Turing-esque smart robot, which \"selfishes more but receives better benefits\" can, one day out— we can make progress right at a very deep level if our research centers, our training methods and our data structure are built first so as not (as DARPA has tried) to end in this form as the core design concept of modern systems: machine\n",
      "-----------------------------------\n",
      "\n",
      "\n",
      "\n",
      "-----------------------------------\n",
      "Parameters:\n",
      "-----------------------------------\n",
      "temperature=3.0\n",
      "-----------------------------------\n",
      "Generation:\n",
      "-----------------------------------\n",
      "During the latest presentation OpenAI provided last night in Washington, DC in conjunction to the Congress for Deep Dreams event that opens this fall it was highlighted once more from one a machine he referred to and thought the \"awcj1cjs6e1f\" AI had captured one on video, or at 10Mbps, as OpenBIADemo reported the same at earlier times:\n",
      "\n",
      "\n",
      "In 2013 Microsoft released Watson using deepdream – with open source licenses and free-voxeling of a\n",
      "-----------------------------------\n",
      "\n",
      "\n",
      "\n"
     ]
    }
   ],
   "source": [
    "# Change temperature\n",
    "\n",
    "for temp in [0.1, 1.0, 2.0, 3.0]:\n",
    "  generated_texts = text_generator(prompt, max_length=100, num_return_sequences=1, temperature=temp)\n",
    "\n",
    "  print(\"-----------------------------------\")\n",
    "  print(\"Parameters:\")\n",
    "  print(\"-----------------------------------\")\n",
    "  print(f\"temperature={temp}\")\n",
    "  print(\"-----------------------------------\")\n",
    "  print(\"Generation:\")\n",
    "  print(\"-----------------------------------\")\n",
    "  print(generated_texts[0]['generated_text'])\n",
    "  print(\"-----------------------------------\")\n",
    "  print(\"\\n\\n\")"
   ]
  },
  {
   "cell_type": "code",
   "execution_count": null,
   "metadata": {
    "id": "UUiu5ZdT9ArW"
   },
   "outputs": [],
   "source": []
  }
 ],
 "metadata": {
  "accelerator": "GPU",
  "colab": {
   "gpuType": "L4",
   "machine_shape": "hm",
   "provenance": []
  },
  "kernelspec": {
   "display_name": "Python [conda env:base] *",
   "language": "python",
   "name": "conda-base-py"
  },
  "language_info": {
   "codemirror_mode": {
    "name": "ipython",
    "version": 3
   },
   "file_extension": ".py",
   "mimetype": "text/x-python",
   "name": "python",
   "nbconvert_exporter": "python",
   "pygments_lexer": "ipython3",
   "version": "3.12.3"
  }
 },
 "nbformat": 4,
 "nbformat_minor": 1
}
