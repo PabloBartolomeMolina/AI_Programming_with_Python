{
 "cells": [
  {
   "cell_type": "markdown",
   "metadata": {
    "grader_id": "igduv388re"
   },
   "source": [
    "Using the NumPy functions you learned about on the previous page, create a 4 x 4 ndarray that only contains consecutive even numbers from 2 to 32 (inclusive)."
   ]
  },
  {
   "cell_type": "code",
   "execution_count": 2,
   "metadata": {
    "grader_id": "vq4pk5pgzkr"
   },
   "outputs": [
    {
     "name": "stdout",
     "output_type": "stream",
     "text": [
      "Nice work! You can view my solution below\n"
     ]
    }
   ],
   "source": [
    "import numpy as np\n",
    "\n",
    "# Replace None with appropriate code\n",
    "X = np.arange(2,33,2).reshape(4,4)\n",
    "\n",
    "### Notebook grading\n",
    "solution = np.arange(2,34,2).reshape(4,4)\n",
    "\n",
    "if type(X) != np.ndarray:\n",
    "    print(\"`X` should be an ndarray\")\n",
    "elif np.array_equal(X, solution):\n",
    "    print(\"Nice work! You can view my solution below\")\n",
    "elif X.shape != solution.shape:\n",
    "    print(\"Your answer for `X` has a shape of {} but it should be 4 x 4\".format(X.shape))\n",
    "else:\n",
    "    print(\"Your answer for `X` has the right shape but incorrect values\")"
   ]
  },
  {
   "cell_type": "code",
   "execution_count": null,
   "metadata": {},
   "outputs": [],
   "source": []
  }
 ],
 "metadata": {
  "kernelspec": {
   "display_name": "Python 3 (ipykernel)",
   "language": "python",
   "name": "python3"
  },
  "language_info": {
   "codemirror_mode": {
    "name": "ipython",
    "version": 3
   },
   "file_extension": ".py",
   "mimetype": "text/x-python",
   "name": "python",
   "nbconvert_exporter": "python",
   "pygments_lexer": "ipython3",
   "version": "3.10.13"
  }
 },
 "nbformat": 4,
 "nbformat_minor": 2
}
