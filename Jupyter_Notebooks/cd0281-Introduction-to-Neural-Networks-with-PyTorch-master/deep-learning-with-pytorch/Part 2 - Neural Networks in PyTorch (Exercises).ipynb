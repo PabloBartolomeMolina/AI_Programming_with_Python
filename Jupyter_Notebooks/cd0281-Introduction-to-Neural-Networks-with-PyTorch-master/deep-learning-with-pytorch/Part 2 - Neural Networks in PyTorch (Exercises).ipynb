{
 "cells": [
  {
   "cell_type": "markdown",
   "metadata": {},
   "source": [
    "# Neural networks with PyTorch\n",
    "\n",
    "Deep learning networks tend to be massive with dozens or hundreds of layers, that's where the term \"deep\" comes from. You can build one of these deep networks using only weight matrices as we did in the previous notebook, but in general it's very cumbersome and difficult to implement. PyTorch has a nice module `nn` that provides a nice way to efficiently build large neural networks."
   ]
  },
  {
   "cell_type": "code",
   "execution_count": 21,
   "metadata": {},
   "outputs": [],
   "source": [
    "# Import necessary packages\n",
    "\n",
    "%matplotlib inline\n",
    "%config InlineBackend.figure_format = 'retina'\n",
    "\n",
    "import numpy as np\n",
    "import torch\n",
    "\n",
    "import helper\n",
    "\n",
    "import matplotlib.pyplot as plt"
   ]
  },
  {
   "cell_type": "markdown",
   "metadata": {},
   "source": [
    "\n",
    "Now we're going to build a larger network that can solve a (formerly) difficult problem, identifying text in an image. Here we'll use the MNIST dataset which consists of greyscale handwritten digits. Each image is 28x28 pixels, you can see a sample below\n",
    "\n",
    "<img src='assets/mnist.png'>\n",
    "\n",
    "Our goal is to build a neural network that can take one of these images and predict the digit in the image.\n",
    "\n",
    "First up, we need to get our dataset. This is provided through the `torchvision` package. The code below will download the MNIST dataset, then create training and test datasets for us. Don't worry too much about the details here, you'll learn more about this later."
   ]
  },
  {
   "cell_type": "code",
   "execution_count": 22,
   "metadata": {},
   "outputs": [],
   "source": [
    "# The MNIST datasets are hosted on yann.lecun.com that has moved under CloudFlare protection\n",
    "# Run this script to enable the datasets download\n",
    "# Reference: https://github.com/pytorch/vision/issues/1938\n",
    "\n",
    "from six.moves import urllib\n",
    "opener = urllib.request.build_opener()\n",
    "opener.addheaders = [('User-agent', 'Mozilla/5.0')]\n",
    "urllib.request.install_opener(opener)"
   ]
  },
  {
   "cell_type": "code",
   "execution_count": 23,
   "metadata": {},
   "outputs": [],
   "source": [
    "### Run this cell\n",
    "\n",
    "from torchvision import datasets, transforms\n",
    "\n",
    "# Define a transform to normalize the data\n",
    "transform = transforms.Compose([transforms.ToTensor(),\n",
    "                              transforms.Normalize((0.5,), (0.5,)),\n",
    "                              ])\n",
    "\n",
    "# Download and load the training data\n",
    "trainset = datasets.MNIST('~/.pytorch/MNIST_data/', download=True, train=True, transform=transform)\n",
    "trainloader = torch.utils.data.DataLoader(trainset, batch_size=64, shuffle=True)"
   ]
  },
  {
   "cell_type": "markdown",
   "metadata": {},
   "source": [
    "We have the training data loaded into `trainloader` and we make that an iterator with `iter(trainloader)`. Later, we'll use this to loop through the dataset for training, like\n",
    "\n",
    "```python\n",
    "for image, label in trainloader:\n",
    "    ## do things with images and labels\n",
    "```\n",
    "\n",
    "You'll notice I created the `trainloader` with a batch size of 64, and `shuffle=True`. The batch size is the number of images we get in one iteration from the data loader and pass through our network, often called a *batch*. And `shuffle=True` tells it to shuffle the dataset every time we start going through the data loader again. But here I'm just grabbing the first batch so we can check out the data. We can see below that `images` is just a tensor with size `(64, 1, 28, 28)`. So, 64 images per batch, 1 color channel, and 28x28 images."
   ]
  },
  {
   "cell_type": "code",
   "execution_count": 27,
   "metadata": {},
   "outputs": [
    {
     "name": "stdout",
     "output_type": "stream",
     "text": [
      "<class 'torch.Tensor'>\n",
      "torch.Size([64, 1, 28, 28])\n",
      "torch.Size([64])\n"
     ]
    }
   ],
   "source": [
    "dataiter = iter(trainloader)\n",
    "# This is not longer supported in newer versions of PyTorch: images, labels = dataiter.next()  #Alternative below\n",
    "images, labels = next(dataiter)\n",
    "print(type(images))\n",
    "print(images.shape)\n",
    "print(labels.shape)"
   ]
  },
  {
   "cell_type": "markdown",
   "metadata": {},
   "source": [
    "This is what one of the images looks like. "
   ]
  },
  {
   "cell_type": "code",
   "execution_count": 28,
   "metadata": {},
   "outputs": [
    {
     "data": {
      "image/png": "[encoded data removed]",
      "text/plain": [
       "<Figure size 640x480 with 1 Axes>"
      ]
     },
     "metadata": {
      "image/png": {
       "height": 413,
       "width": 416
      }
     },
     "output_type": "display_data"
    }
   ],
   "source": [
    "plt.imshow(images[1].numpy().squeeze(), cmap='Greys_r');"
   ]
  },
  {
   "cell_type": "markdown",
   "metadata": {},
   "source": [
    "First, let's try to build a simple network for this dataset using weight matrices and matrix multiplications. Then, we'll see how to do it using PyTorch's `nn` module which provides a much more convenient and powerful method for defining network architectures.\n",
    "\n",
    "The networks you've seen so far are called *fully-connected* or *dense* networks. Each unit in one layer is connected to each unit in the next layer. In fully-connected networks, the input to each layer must be a one-dimensional vector (which can be stacked into a 2D tensor as a batch of multiple examples). However, our images are 28x28 2D tensors, so we need to convert them into 1D vectors. Thinking about sizes, we need to convert the batch of images with shape `(64, 1, 28, 28)` to a have a shape of `(64, 784)`, 784 is 28 times 28. This is typically called *flattening*, we flattened the 2D images into 1D vectors.\n",
    "\n",
    "Previously you built a network with one output unit. Here we need 10 output units, one for each digit. We want our network to predict the digit shown in an image, so what we'll do is calculate probabilities that the image is of any one digit or class. This ends up being a discrete probability distribution over the classes (digits) that tells us the most likely class for the image. That means we need 10 output units for the 10 classes (digits). We'll see how to convert the network output into a probability distribution next.\n",
    "\n",
    "> **Exercise:** Flatten the batch of images `images`. Then build a multi-layer network with 784 input units, 256 hidden units, and 10 output units using random tensors for the weights and biases. For now, use a sigmoid activation for the hidden layer. Leave the output layer without an activation, we'll add one that gives us a probability distribution next."
   ]
  },
  {
   "cell_type": "code",
   "execution_count": 29,
   "metadata": {},
   "outputs": [
    {
     "name": "stdout",
     "output_type": "stream",
     "text": [
      "features:  torch.Size([64, 784])\n",
      "input neurons: 784 hidden neurons: 256 output neurons: 10\n",
      "output size:  torch.Size([64, 10])\n",
      "tensor([[  6.4270, -12.6628,   9.9135,  13.1536,  12.6897,  11.5233,  -5.3357,\n",
      "          -4.8209,   5.9072, -21.3322],\n",
      "        [  3.2681, -10.1815,   1.8896,  -7.7696,  15.9032,   4.6808,  15.4730,\n",
      "           6.7066,   6.0633, -22.8419],\n",
      "        [  8.1577, -16.8670,   3.3698,   0.2530,  10.2798,   8.0657,   7.3982,\n",
      "          -8.6407,   4.6459, -19.5331],\n",
      "        [ -2.8234, -15.8696,  13.3275,   7.9353,  12.1217,   7.6958,   2.8937,\n",
      "          -4.4020,   3.8531, -15.9901],\n",
      "        [  6.3937, -22.0971,  14.3589,   5.2974,  10.1313,   9.9975,   0.5501,\n",
      "           3.3772,   9.3636, -13.6589],\n",
      "        [  4.7368, -11.3695,   4.7219,   7.4795,  13.5058,   2.7988,   2.7695,\n",
      "           4.0292,   2.7340, -14.3207],\n",
      "        [  1.5544, -16.3666,   5.9923,  10.1249,  10.5286,  10.3478,  -7.8442,\n",
      "          -4.6179,  -6.1541, -18.5605],\n",
      "        [  9.3420, -14.8134,   3.7843,   5.1123,   6.6729,   4.6831,   0.9550,\n",
      "           3.2927,   0.6016, -14.1492],\n",
      "        [  4.6165, -14.7216,  11.8775,  -9.7221,  10.0353,  -2.0887,  14.2419,\n",
      "          -4.5435,  10.8530, -18.0244],\n",
      "        [  1.6046, -19.9216,   7.3338,  -9.3921,   7.1344,   2.5482,  17.2296,\n",
      "          -5.5466,   9.4715,  -7.5316],\n",
      "        [  2.9505, -13.9150,  -2.4394,   0.5820,  12.4331,   2.5674,  16.8453,\n",
      "          -1.4897,   3.0440, -28.5640],\n",
      "        [  8.3240,  -9.0016,  -3.8952,  -0.2628,  13.6248,   4.0021,   8.7859,\n",
      "          -1.9946,   3.2759, -23.4324],\n",
      "        [  2.7759, -12.5930,   2.3492,   2.0322,  18.2921,   3.6167,  -0.1074,\n",
      "           6.9128,   4.3216, -22.8145],\n",
      "        [  6.1199, -14.1229,  12.2564,   3.7473,   7.5811,   4.0490,   8.6467,\n",
      "          -1.4775,   4.7259, -12.5704],\n",
      "        [  9.0710,  -4.9183,   4.4799,  -6.9565,   9.7010,   8.3372,   8.3185,\n",
      "          -4.5482,   6.4500, -13.4522],\n",
      "        [  1.6442, -14.9109,   5.0457,  -1.1925,   8.3822,   5.0919,  14.9919,\n",
      "          -3.8820,   7.9609, -23.2045],\n",
      "        [  3.2698, -12.7135,   5.4223,   3.4872,  11.1513,  11.6295,   9.6696,\n",
      "          -1.0977,   1.4624, -23.0446],\n",
      "        [ -5.3186,  -4.1113,   5.3779,   2.7790,  12.7245,   1.7250,  14.2044,\n",
      "          -6.7579,  -2.5024, -11.3673],\n",
      "        [  2.6287, -18.9528,  10.4363,  11.1543,  12.0344,  15.0201,   2.2564,\n",
      "          13.8057,   0.8746, -12.8583],\n",
      "        [  3.3294,  -4.2314,  -1.3797,   6.9951,   9.4727,  18.2635,   1.1993,\n",
      "          -8.8447,   4.0741, -23.7443],\n",
      "        [  0.0820, -13.3384,   5.4660,   6.6367,  16.3026,   8.7641,   7.0121,\n",
      "           5.8411,  -0.2628, -26.8415],\n",
      "        [ -4.4183, -13.0373,  -7.6139,   4.0054,   3.9792,  13.1159,  -2.0316,\n",
      "          -0.4543,  -4.5710, -27.1354],\n",
      "        [ -4.0377,  -8.9107,   2.6404,  10.9713,  11.3063,   5.9378,   7.1831,\n",
      "          -2.6563,   7.5915, -22.1919],\n",
      "        [ -1.3101,  -9.6088,   5.6961,   9.3129,   6.7115,  11.6586,   2.7515,\n",
      "          -7.0362,  10.2596, -10.4917],\n",
      "        [ -0.7074,   1.9413,  -3.2111,   0.3727,   6.0699,   6.5387,   6.0340,\n",
      "           1.4449,   6.0789, -16.7100],\n",
      "        [  6.0128, -10.8913,  12.3486,   1.9051,   8.4193,   5.3946,   8.1557,\n",
      "           4.2301,   5.7593, -18.1656],\n",
      "        [  4.8176, -15.8538,   5.3867,   0.5428,  10.4472,   3.2294,   1.5476,\n",
      "           6.4198,   2.3087, -19.0653],\n",
      "        [  0.2393,  -8.4304,   7.9905,   8.0474,  10.3881,  13.7170,   5.6608,\n",
      "           0.2328,   8.6067, -17.4849],\n",
      "        [ -4.9217, -10.9988,   2.0995,   1.5518,   2.9127,  10.2610,   0.9764,\n",
      "           4.3893,  10.3033, -20.8239],\n",
      "        [  0.4678,  -8.8676,   6.1836,  -3.6263,  10.3549,  10.5751,   5.5028,\n",
      "          -1.6956,   3.6014, -17.1716],\n",
      "        [ -3.7483, -14.0278,   4.9648,  11.3595,   8.8200,  12.7949,   2.3362,\n",
      "          -1.8264,   5.0278, -17.0385],\n",
      "        [  0.3401, -12.3858,  12.4646,   9.3477,  13.0284,   6.5895,   4.4880,\n",
      "          -3.5558,  -3.9049, -21.3695],\n",
      "        [  6.8538, -18.1880,   1.6961, -10.1154,   9.4136,  -4.6146,  19.5760,\n",
      "           0.5354,   7.2124, -23.8885],\n",
      "        [ -9.6006, -15.2239,  -7.2983,   9.9118,  12.4362,   6.4882,  -0.0959,\n",
      "         -11.1729,  -3.4997, -25.6717],\n",
      "        [ -4.5781, -18.1688,   4.6010,   5.0565,   9.2549,   9.3385,   7.0783,\n",
      "          -2.0476,   5.3169, -11.9129],\n",
      "        [ -3.4098, -10.1600,   7.1197,  -5.7249,   9.5994,   5.2692,  10.0433,\n",
      "           1.7527,  11.0594, -24.2129],\n",
      "        [ -0.1001,  -8.9147,  -5.7070,   2.0073,   8.9936,   6.2206,  11.0395,\n",
      "           0.0400,  15.1378, -17.1052],\n",
      "        [ -8.3575, -12.4562,   0.6222,   9.2418,   5.6601,   6.1460,   8.5326,\n",
      "          -2.0528,   1.9176, -22.5876],\n",
      "        [ -5.3396, -12.1243,  10.5519,   4.5758,   2.4696,  11.7297,   9.1993,\n",
      "          -2.5238,  13.9718, -19.2232],\n",
      "        [  1.0092, -17.7233,   7.1423,   0.6333,  12.9300,   2.5134,   7.4764,\n",
      "           1.0920,   6.9063, -21.4011],\n",
      "        [  1.1115, -12.3807,  -0.7282,   6.3824,   4.2185,   6.3256,   8.7078,\n",
      "           2.7574,  11.1230, -16.7457],\n",
      "        [  0.3917, -15.3787,   8.9153,  -0.4250,   5.4521,  11.2186,  10.1067,\n",
      "         -11.1895,  -7.2387, -15.2205],\n",
      "        [ -0.4396,  -8.3075,   2.7071,  -5.0593,  17.2269,   6.1353,   4.6836,\n",
      "           3.2229,   2.2464, -17.7811],\n",
      "        [ -2.5062, -18.9729,  -2.6869,   7.5798,  13.6141,  10.8188,   2.1794,\n",
      "           5.3197,  -3.6388, -19.3331],\n",
      "        [ -5.1898, -14.5312,   8.5128,  -5.0401,  17.1779,  14.5437,   4.4652,\n",
      "           9.5636,   1.9687, -13.9529],\n",
      "        [  5.8592,  -8.8484,   0.3161,   0.5914,   8.0824,  16.8178,   3.8629,\n",
      "          -3.7736,   3.6233, -13.5570],\n",
      "        [ -1.9281, -13.4736,  -9.8412,   1.0432,   9.0356,  10.2482,   0.3150,\n",
      "          -4.3120,   4.8828, -18.4260],\n",
      "        [  4.3037,  -8.8215,   6.0215,  -2.9531,   6.5367,   7.4449,   5.7119,\n",
      "           4.5430,  -0.3775, -16.2853],\n",
      "        [  1.2400, -10.2292,   6.9156,   5.3354,  14.4972,   3.6964,   5.6877,\n",
      "          -1.7366,   2.4527, -19.9631],\n",
      "        [ -3.9262, -13.5513,   2.9402,  -1.3271,   0.8254,  15.9844,   6.6301,\n",
      "          -7.4385,   8.1338,  -9.8619],\n",
      "        [  2.8580,  -9.1348,   9.5631,   6.9008,   6.8788,   7.1743,   3.6049,\n",
      "          -7.7072,   5.1055, -17.2071],\n",
      "        [  0.6610, -14.4216,   6.8655,  -6.8070,   4.9136,   2.8976,  -0.3557,\n",
      "          -2.6537,   3.0400, -16.4503],\n",
      "        [  7.5099, -21.3263,   8.0729,   0.3885,   9.9297,   5.8784,   3.2772,\n",
      "          -4.3608,   0.1606, -23.9379],\n",
      "        [  6.5175,  -8.0879,   4.2222,  -7.8448,  10.9428,  -5.6097,  16.3760,\n",
      "          -6.0033,   8.5319, -18.3482],\n",
      "        [  2.8392, -10.7742,   2.2978,   4.3311,  13.8480,  11.5712,  -1.3971,\n",
      "           4.3265,  -2.6910, -13.9738],\n",
      "        [  6.9651, -15.8381,  12.8633,  -2.1637,   5.2784,   9.9778,   3.7002,\n",
      "           1.4677,   0.3953,  -9.9086],\n",
      "        [ 17.0021, -18.6264,   9.2395,   3.1397,  10.4400,   5.4683,   6.5207,\n",
      "           0.7639,   5.2153,  -1.3186],\n",
      "        [  3.3737, -15.2532,  -4.5954,  -0.6602,   5.5580,   6.8106,  15.2826,\n",
      "          -0.5960,   8.2993, -17.3460],\n",
      "        [  3.9658,  -8.6292,   9.6232,   3.8387,  11.1436,  11.1577,  -5.0865,\n",
      "           6.8895,   1.8024,  -6.4957],\n",
      "        [ 10.4700, -13.5325,  10.0878, -11.0448,  14.3742,   4.8391,  14.3757,\n",
      "           1.5692,  14.6359, -11.0994],\n",
      "        [ -0.6940, -14.5279,   0.4305,  -2.8437,  -0.1599,  10.5938,  10.5008,\n",
      "          -6.0555,   7.0753, -28.6575],\n",
      "        [-10.1464, -13.6664,  -1.7613,   1.8744,   9.7663,  12.7018,  20.0183,\n",
      "           1.7991,   7.4965, -20.5009],\n",
      "        [ -1.3254,  -8.8208,   5.2263,   3.2994,  15.0609,   5.6691,   6.3971,\n",
      "          -7.3348,   0.7023, -21.6177],\n",
      "        [ -5.9860, -17.0162,  13.7786,  -3.1655,  -3.0407,   4.2118,   9.1334,\n",
      "          -7.6926,   2.7137, -13.3934]])\n"
     ]
    }
   ],
   "source": [
    "# Flatten the images tensor, so we go from 64 28x28 elements to 64 784 elements -- 2 options in PyTorch\n",
    "\n",
    "# High-level, explicit method for flattening tensors.\n",
    "# Keeps the batch dimension intact and flattens all other dimensions from a specified starting dimension (default: start_dim=1).\n",
    "# More readable and clear when dealing with complex data (e.g., images).\n",
    "features = torch.flatten(images, start_dim=1)\n",
    "# A lower-level operation that reshapes a tensor by manually specifying the batch dimension (images.shape[0]) and using -1 to automatically infer the new size.\n",
    "# More flexible but can require additional attention to tensor contiguity.\n",
    "features = images.view(images.shape[0], -1)\n",
    "\n",
    "print(\"features: \", features.shape)\n",
    "\n",
    "# Define the size of each layer in our network\n",
    "n_input = features.shape[1]     # Number of input units, must match number of input features\n",
    "n_hidden = 256                  # Number of hidden units \n",
    "n_output = 10                   # Number of output units\n",
    "print(f\"input neurons: {n_input} hidden neurons: {n_hidden} output neurons: {n_output}\")\n",
    "\n",
    "# Weights for inputs to hidden layer\n",
    "W1 = torch.randn(n_input, n_hidden)\n",
    "# Weights for hidden layer to output layer\n",
    "W2 = torch.randn(n_hidden, n_output)\n",
    "# and bias terms for hidden and output layers\n",
    "B1 = torch.randn((1, n_hidden))\n",
    "B2 = torch.randn((1, n_output))\n",
    "\n",
    "h = torch.sigmoid(torch.mm(features, W1) + B1)\n",
    "out = torch.mm(h, W2) + B2\n",
    "\n",
    "print(\"output size: \", out.shape)\n",
    "print(out)"
   ]
  },
  {
   "cell_type": "markdown",
   "metadata": {},
   "source": [
    "Now we have 10 outputs for our network. We want to pass in an image to our network and get out a probability distribution over the classes that tells us the likely class(es) the image belongs to. Something that looks like this:\n",
    "<img src='assets/image_distribution.png' width=500px>\n",
    "\n",
    "Here we see that the probability for each class is roughly the same. This is representing an untrained network, it hasn't seen any data yet so it just returns a uniform distribution with equal probabilities for each class.\n",
    "\n",
    "To calculate this probability distribution, we often use the [**softmax** function](https://en.wikipedia.org/wiki/Softmax_function). Mathematically this looks like\n",
    "\n",
    "$$\n",
    "\\Large \\sigma(x_i) = \\cfrac{e^{x_i}}{\\sum_k^K{e^{x_k}}}\n",
    "$$\n",
    "\n",
    "What this does is squish each input $x_i$ between 0 and 1 and normalizes the values to give you a proper probability distribution where the probabilites sum up to one.\n",
    "\n",
    "> **Exercise:** Implement a function `softmax` that performs the softmax calculation and returns probability distributions for each example in the batch. Note that you'll need to pay attention to the shapes when doing this. If you have a tensor `a` with shape `(64, 10)` and a tensor `b` with shape `(64,)`, doing `a/b` will give you an error because PyTorch will try to do the division across the columns (called broadcasting) but you'll get a size mismatch. The way to think about this is for each of the 64 examples, you only want to divide by one value, the sum in the denominator. So you need `b` to have a shape of `(64, 1)`. This way PyTorch will divide the 10 values in each row of `a` by the one value in each row of `b`. Pay attention to how you take the sum as well. You'll need to define the `dim` keyword in `torch.sum`. Setting `dim=0` takes the sum across the rows while `dim=1` takes the sum across the columns."
   ]
  },
  {
   "cell_type": "code",
   "execution_count": 39,
   "metadata": {},
   "outputs": [
    {
     "name": "stdout",
     "output_type": "stream",
     "text": [
      "sum size: <built-in method size of Tensor object at 0x000001C6A3D57340>\n",
      "torch.Size([64, 10])\n",
      "tensor([1.0000, 1.0000, 1.0000, 1.0000, 1.0000, 1.0000, 1.0000, 1.0000, 1.0000,\n",
      "        1.0000, 1.0000, 1.0000, 1.0000, 1.0000, 1.0000, 1.0000, 1.0000, 1.0000,\n",
      "        1.0000, 1.0000, 1.0000, 1.0000, 1.0000, 1.0000, 1.0000, 1.0000, 1.0000,\n",
      "        1.0000, 1.0000, 1.0000, 1.0000, 1.0000, 1.0000, 1.0000, 1.0000, 1.0000,\n",
      "        1.0000, 1.0000, 1.0000, 1.0000, 1.0000, 1.0000, 1.0000, 1.0000, 1.0000,\n",
      "        1.0000, 1.0000, 1.0000, 1.0000, 1.0000, 1.0000, 1.0000, 1.0000, 1.0000,\n",
      "        1.0000, 1.0000, 1.0000, 1.0000, 1.0000, 1.0000, 1.0000, 1.0000, 1.0000,\n",
      "        1.0000])\n"
     ]
    }
   ],
   "source": [
    "def softmax(x):\n",
    "    ## TODO: Implement the softmax function here\n",
    "    num = torch.exp(x)\n",
    "    # We'll have a sum of 64*64, so we need to apply the view method)\n",
    "    den = torch.sum(torch.exp(x), dim=1).view(-1, 1) # View(-1,1) to get a column vector of 10 rows\n",
    "    print(f\"sum size: {den.size}\")\n",
    "    return torch.exp(x)/torch.sum(torch.exp(x), dim=1).view(-1, 1)\n",
    "\n",
    "# Here, out should be the output of the network in the previous excercise with shape (64,10)\n",
    "probabilities = softmax(out)\n",
    "\n",
    "# Check the size is correct: (64, 10)\n",
    "print(probabilities.shape)\n",
    "# Check if the sum to 1 for all examples\n",
    "print(probabilities.sum(dim=1))"
   ]
  },
  {
   "cell_type": "markdown",
   "metadata": {},
   "source": [
    "## Building networks with PyTorch\n",
    "\n",
    "PyTorch provides a module `nn` that makes building networks much simpler. Here I'll show you how to build the same one as above with 784 inputs, 256 hidden units, 10 output units and a softmax output."
   ]
  },
  {
   "cell_type": "code",
   "execution_count": null,
   "metadata": {
    "collapsed": true
   },
   "outputs": [],
   "source": [
    "from torch import nn"
   ]
  },
  {
   "cell_type": "code",
   "execution_count": null,
   "metadata": {
    "collapsed": true
   },
   "outputs": [],
   "source": [
    "class Network(nn.Module):\n",
    "    def __init__(self):\n",
    "        super().__init__()\n",
    "        \n",
    "        # Inputs to hidden layer linear transformation\n",
    "        self.hidden = nn.Linear(784, 256)\n",
    "        # Output layer, 10 units - one for each digit\n",
    "        self.output = nn.Linear(256, 10)\n",
    "        \n",
    "        # Define sigmoid activation and softmax output \n",
    "        self.sigmoid = nn.Sigmoid()\n",
    "        self.softmax = nn.Softmax(dim=1)\n",
    "        \n",
    "    def forward(self, x):\n",
    "        # Pass the input tensor through each of our operations\n",
    "        x = self.hidden(x)\n",
    "        x = self.sigmoid(x)\n",
    "        x = self.output(x)\n",
    "        x = self.softmax(x)\n",
    "        \n",
    "        return x"
   ]
  },
  {
   "cell_type": "markdown",
   "metadata": {},
   "source": [
    "Let's go through this bit by bit.\n",
    "\n",
    "```python\n",
    "class Network(nn.Module):\n",
    "```\n",
    "\n",
    "Here we're inheriting from `nn.Module`. Combined with `super().__init__()` this creates a class that tracks the architecture and provides a lot of useful methods and attributes. It is mandatory to inherit from `nn.Module` when you're creating a class for your network. The name of the class itself can be anything.\n",
    "\n",
    "```python\n",
    "self.hidden = nn.Linear(784, 256)\n",
    "```\n",
    "\n",
    "This line creates a module for a linear transformation, $x\\mathbf{W} + b$, with 784 inputs and 256 outputs and assigns it to `self.hidden`. The module automatically creates the weight and bias tensors which we'll use in the `forward` method. You can access the weight and bias tensors once the network (`net`) is created with `net.hidden.weight` and `net.hidden.bias`.\n",
    "\n",
    "```python\n",
    "self.output = nn.Linear(256, 10)\n",
    "```\n",
    "\n",
    "Similarly, this creates another linear transformation with 256 inputs and 10 outputs.\n",
    "\n",
    "```python\n",
    "self.sigmoid = nn.Sigmoid()\n",
    "self.softmax = nn.Softmax(dim=1)\n",
    "```\n",
    "\n",
    "Here I defined operations for the sigmoid activation and softmax output. Setting `dim=1` in `nn.Softmax(dim=1)` calculates softmax across the columns.\n",
    "\n",
    "```python\n",
    "def forward(self, x):\n",
    "```\n",
    "\n",
    "PyTorch networks created with `nn.Module` must have a `forward` method defined. It takes in a tensor `x` and passes it through the operations you defined in the `__init__` method.\n",
    "\n",
    "```python\n",
    "x = self.hidden(x)\n",
    "x = self.sigmoid(x)\n",
    "x = self.output(x)\n",
    "x = self.softmax(x)\n",
    "```\n",
    "\n",
    "Here the input tensor `x` is passed through each operation and reassigned to `x`. We can see that the input tensor goes through the hidden layer, then a sigmoid function, then the output layer, and finally the softmax function. It doesn't matter what you name the variables here, as long as the inputs and outputs of the operations match the network architecture you want to build. The order in which you define things in the `__init__` method doesn't matter, but you'll need to sequence the operations correctly in the `forward` method.\n",
    "\n",
    "Now we can create a `Network` object."
   ]
  },
  {
   "cell_type": "code",
   "execution_count": null,
   "metadata": {
    "collapsed": true
   },
   "outputs": [],
   "source": [
    "# Create the network and look at it's text representation\n",
    "model = Network()\n",
    "model"
   ]
  },
  {
   "cell_type": "markdown",
   "metadata": {},
   "source": [
    "You can define the network somewhat more concisely and clearly using the `torch.nn.functional` module. This is the most common way you'll see networks defined as many operations are simple element-wise functions. We normally import this module as `F`, `import torch.nn.functional as F`."
   ]
  },
  {
   "cell_type": "code",
   "execution_count": null,
   "metadata": {
    "collapsed": true
   },
   "outputs": [],
   "source": [
    "import torch.nn.functional as F\n",
    "\n",
    "class Network(nn.Module):\n",
    "    def __init__(self):\n",
    "        super().__init__()\n",
    "        # Inputs to hidden layer linear transformation\n",
    "        self.hidden = nn.Linear(784, 256)\n",
    "        # Output layer, 10 units - one for each digit\n",
    "        self.output = nn.Linear(256, 10)\n",
    "        \n",
    "    def forward(self, x):\n",
    "        # Hidden layer with sigmoid activation\n",
    "        x = F.sigmoid(self.hidden(x))\n",
    "        # Output layer with softmax activation\n",
    "        x = F.softmax(self.output(x), dim=1)\n",
    "        \n",
    "        return x"
   ]
  },
  {
   "cell_type": "markdown",
   "metadata": {},
   "source": [
    "### Activation functions\n",
    "\n",
    "So far we've only been looking at the sigmoid activation function, but in general any function can be used as an activation function. The only requirement is that for a network to approximate a non-linear function, the activation functions must be non-linear. Here are a few more examples of common activation functions: Tanh (hyperbolic tangent), and ReLU (rectified linear unit).\n",
    "\n",
    "<img src=\"assets/activation.png\" width=700px>\n",
    "\n",
    "In practice, the ReLU function is used almost exclusively as the activation function for hidden layers."
   ]
  },
  {
   "cell_type": "markdown",
   "metadata": {},
   "source": [
    "### Your Turn to Build a Network\n",
    "\n",
    "<img src=\"assets/mlp_mnist.png\" width=600px>\n",
    "\n",
    "> **Exercise:** Create a network with 784 input units, a hidden layer with 128 units and a ReLU activation, then a hidden layer with 64 units and a ReLU activation, and finally an output layer with a softmax activation as shown above. You can use a ReLU activation with the `nn.ReLU` module or `F.relu` function.\n",
    "\n",
    "It's good practice to name your layers by their type of network, for instance 'fc' to represent a fully-connected layer. As you code your solution, use `fc1`, `fc2`, and `fc3` as your layer names."
   ]
  },
  {
   "cell_type": "code",
   "execution_count": null,
   "metadata": {
    "collapsed": true,
    "scrolled": true
   },
   "outputs": [],
   "source": [
    "## Your solution here\n"
   ]
  },
  {
   "cell_type": "markdown",
   "metadata": {},
   "source": [
    "### Initializing weights and biases\n",
    "\n",
    "The weights and such are automatically initialized for you, but it's possible to customize how they are initialized. The weights and biases are tensors attached to the layer you defined, you can get them with `model.fc1.weight` for instance."
   ]
  },
  {
   "cell_type": "code",
   "execution_count": null,
   "metadata": {
    "collapsed": true
   },
   "outputs": [],
   "source": [
    "print(model.fc1.weight)\n",
    "print(model.fc1.bias)"
   ]
  },
  {
   "cell_type": "markdown",
   "metadata": {},
   "source": [
    "For custom initialization, we want to modify these tensors in place. These are actually autograd *Variables*, so we need to get back the actual tensors with `model.fc1.weight.data`. Once we have the tensors, we can fill them with zeros (for biases) or random normal values."
   ]
  },
  {
   "cell_type": "code",
   "execution_count": null,
   "metadata": {
    "collapsed": true
   },
   "outputs": [],
   "source": [
    "# Set biases to all zeros\n",
    "model.fc1.bias.data.fill_(0)"
   ]
  },
  {
   "cell_type": "code",
   "execution_count": null,
   "metadata": {
    "collapsed": true
   },
   "outputs": [],
   "source": [
    "# sample from random normal with standard dev = 0.01\n",
    "model.fc1.weight.data.normal_(std=0.01)"
   ]
  },
  {
   "cell_type": "markdown",
   "metadata": {},
   "source": [
    "### Forward pass\n",
    "\n",
    "Now that we have a network, let's see what happens when we pass in an image."
   ]
  },
  {
   "cell_type": "code",
   "execution_count": null,
   "metadata": {
    "collapsed": true
   },
   "outputs": [],
   "source": [
    "# Grab some data \n",
    "dataiter = iter(trainloader)\n",
    "images, labels = dataiter.next()\n",
    "\n",
    "# Resize images into a 1D vector, new shape is (batch size, color channels, image pixels) \n",
    "images.resize_(64, 1, 784)\n",
    "# or images.resize_(images.shape[0], 1, 784) to automatically get batch size\n",
    "\n",
    "# Forward pass through the network\n",
    "img_idx = 0\n",
    "ps = model.forward(images[img_idx,:])\n",
    "\n",
    "img = images[img_idx]\n",
    "helper.view_classify(img.view(1, 28, 28), ps)"
   ]
  },
  {
   "cell_type": "markdown",
   "metadata": {},
   "source": [
    "As you can see above, our network has basically no idea what this digit is. It's because we haven't trained it yet, all the weights are random!\n",
    "\n",
    "### Using `nn.Sequential`\n",
    "\n",
    "PyTorch provides a convenient way to build networks like this where a tensor is passed sequentially through operations, `nn.Sequential` ([documentation](https://pytorch.org/docs/master/nn.html#torch.nn.Sequential)). Using this to build the equivalent network:"
   ]
  },
  {
   "cell_type": "code",
   "execution_count": null,
   "metadata": {
    "collapsed": true
   },
   "outputs": [],
   "source": [
    "# Hyperparameters for our network\n",
    "input_size = 784\n",
    "hidden_sizes = [128, 64]\n",
    "output_size = 10\n",
    "\n",
    "# Build a feed-forward network\n",
    "model = nn.Sequential(nn.Linear(input_size, hidden_sizes[0]),\n",
    "                      nn.ReLU(),\n",
    "                      nn.Linear(hidden_sizes[0], hidden_sizes[1]),\n",
    "                      nn.ReLU(),\n",
    "                      nn.Linear(hidden_sizes[1], output_size),\n",
    "                      nn.Softmax(dim=1))\n",
    "print(model)\n",
    "\n",
    "# Forward pass through the network and display output\n",
    "images, labels = next(iter(trainloader))\n",
    "images.resize_(images.shape[0], 1, 784)\n",
    "ps = model.forward(images[0,:])\n",
    "helper.view_classify(images[0].view(1, 28, 28), ps)"
   ]
  },
  {
   "cell_type": "markdown",
   "metadata": {},
   "source": [
    "Here our model is the same as before: 784 input units, a hidden layer with 128 units, ReLU activation, 64 unit hidden layer, another ReLU, then the output layer with 10 units, and the softmax output.\n",
    "\n",
    "The operations are available by passing in the appropriate index. For example, if you want to get first Linear operation and look at the weights, you'd use `model[0]`."
   ]
  },
  {
   "cell_type": "code",
   "execution_count": null,
   "metadata": {
    "collapsed": true
   },
   "outputs": [],
   "source": [
    "print(model[0])\n",
    "model[0].weight"
   ]
  },
  {
   "cell_type": "markdown",
   "metadata": {},
   "source": [
    "You can also pass in an `OrderedDict` to name the individual layers and operations, instead of using incremental integers. Note that dictionary keys must be unique, so _each operation must have a different name_."
   ]
  },
  {
   "cell_type": "code",
   "execution_count": null,
   "metadata": {
    "collapsed": true
   },
   "outputs": [],
   "source": [
    "from collections import OrderedDict\n",
    "model = nn.Sequential(OrderedDict([\n",
    "                      ('fc1', nn.Linear(input_size, hidden_sizes[0])),\n",
    "                      ('relu1', nn.ReLU()),\n",
    "                      ('fc2', nn.Linear(hidden_sizes[0], hidden_sizes[1])),\n",
    "                      ('relu2', nn.ReLU()),\n",
    "                      ('output', nn.Linear(hidden_sizes[1], output_size)),\n",
    "                      ('softmax', nn.Softmax(dim=1))]))\n",
    "model"
   ]
  },
  {
   "cell_type": "markdown",
   "metadata": {},
   "source": [
    "Now you can access layers either by integer or the name"
   ]
  },
  {
   "cell_type": "code",
   "execution_count": null,
   "metadata": {
    "collapsed": true
   },
   "outputs": [],
   "source": [
    "print(model[0])\n",
    "print(model.fc1)"
   ]
  },
  {
   "cell_type": "markdown",
   "metadata": {},
   "source": [
    "In the next notebook, we'll see how we can train a neural network to accuractly predict the numbers appearing in the MNIST images."
   ]
  }
 ],
 "metadata": {
  "kernelspec": {
   "display_name": "Python [conda env:base] *",
   "language": "python",
   "name": "conda-base-py"
  },
  "language_info": {
   "codemirror_mode": {
    "name": "ipython",
    "version": 3
   },
   "file_extension": ".py",
   "mimetype": "text/x-python",
   "name": "python",
   "nbconvert_exporter": "python",
   "pygments_lexer": "ipython3",
   "version": "3.12.4"
  }
 },
 "nbformat": 4,
 "nbformat_minor": 2
}
