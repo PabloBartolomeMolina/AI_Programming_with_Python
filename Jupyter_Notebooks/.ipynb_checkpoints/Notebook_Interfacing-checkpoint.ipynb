{
 "cells": [
  {
   "cell_type": "markdown",
   "id": "62f8ac32",
   "metadata": {},
   "source": [
    "# This is a Notebook to test the interface\n",
    "\n",
    "## This is a second title\n",
    "\n",
    "Here I can set some text."
   ]
  },
  {
   "cell_type": "code",
   "execution_count": 1,
   "id": "ccff7159",
   "metadata": {},
   "outputs": [
    {
     "name": "stdout",
     "output_type": "stream",
     "text": [
      "6\n"
     ]
    }
   ],
   "source": [
    "a, b = 1, 5\n",
    "\n",
    "print(a+b)"
   ]
  },
  {
   "cell_type": "code",
   "execution_count": null,
   "id": "9117d560",
   "metadata": {},
   "outputs": [],
   "source": []
  }
 ],
 "metadata": {
  "kernelspec": {
   "display_name": "Python [conda env:base] *",
   "language": "python",
   "name": "conda-base-py"
  },
  "language_info": {
   "codemirror_mode": {
    "name": "ipython",
    "version": 3
   },
   "file_extension": ".py",
   "mimetype": "text/x-python",
   "name": "python",
   "nbconvert_exporter": "python",
   "pygments_lexer": "ipython3",
   "version": "3.12.4"
  }
 },
 "nbformat": 4,
 "nbformat_minor": 5
}
